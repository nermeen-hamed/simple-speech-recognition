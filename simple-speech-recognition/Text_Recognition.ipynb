{
 "cells": [
  {
   "cell_type": "markdown",
   "id": "6da2f794",
   "metadata": {},
   "source": [
    "# Simple Speech Recognition Project"
   ]
  },
  {
   "cell_type": "code",
   "execution_count": 9,
   "id": "f8126908",
   "metadata": {
    "ExecuteTime": {
     "end_time": "2022-05-03T14:32:19.820611Z",
     "start_time": "2022-05-03T14:32:19.796860Z"
    }
   },
   "outputs": [],
   "source": [
    "import speech_recognition as sr"
   ]
  },
  {
   "cell_type": "code",
   "execution_count": 10,
   "id": "fd974409",
   "metadata": {
    "ExecuteTime": {
     "end_time": "2022-05-03T14:32:20.148134Z",
     "start_time": "2022-05-03T14:32:20.132179Z"
    }
   },
   "outputs": [],
   "source": [
    "r=sr.Recognizer()"
   ]
  },
  {
   "cell_type": "code",
   "execution_count": 11,
   "id": "707ced0f",
   "metadata": {
    "ExecuteTime": {
     "end_time": "2022-05-03T14:32:27.337553Z",
     "start_time": "2022-05-03T14:32:20.484973Z"
    }
   },
   "outputs": [
    {
     "name": "stdout",
     "output_type": "stream",
     "text": [
      "Please say any thing------\n",
      "you have said \n",
      "how do you feel no\n",
      "Audio Recoder Successfuly \n",
      "\n"
     ]
    }
   ],
   "source": [
    "with sr.Microphone() as source :\n",
    "    r.adjust_for_ambient_noise(source)\n",
    "    print(\"Please say any thing------\")\n",
    "    audio=r.listen(source)\n",
    "    try:\n",
    "        print(\"you have said \\n\" +r.recognize_google(audio))\n",
    "        print(\"Audio Recoder Successfuly \\n\")\n",
    "        f=open(\"textFile.txt\",\"a\")\n",
    "        f.write(\"\\n\"+str(r.recognize_google(audio)))\n",
    "        f.close()\n",
    "    except Exception as e:\n",
    "        print(\"Error : \"+ str(e))"
   ]
  },
  {
   "cell_type": "code",
   "execution_count": 6,
   "id": "8ec9aed7",
   "metadata": {
    "ExecuteTime": {
     "end_time": "2022-05-03T14:10:23.958379Z",
     "start_time": "2022-05-03T14:10:22.659492Z"
    }
   },
   "outputs": [],
   "source": []
  },
  {
   "cell_type": "markdown",
   "id": "98141e0a",
   "metadata": {},
   "source": [
    "# Convert from Text to Speech"
   ]
  },
  {
   "cell_type": "code",
   "execution_count": 24,
   "id": "0af9cf36",
   "metadata": {
    "ExecuteTime": {
     "end_time": "2022-05-03T14:36:18.960831Z",
     "start_time": "2022-05-03T14:36:18.948865Z"
    }
   },
   "outputs": [],
   "source": [
    "from gtts import gTTS\n",
    "import os"
   ]
  },
  {
   "cell_type": "code",
   "execution_count": 25,
   "id": "0b3e38dd",
   "metadata": {
    "ExecuteTime": {
     "end_time": "2022-05-03T14:36:19.416701Z",
     "start_time": "2022-05-03T14:36:19.408765Z"
    }
   },
   "outputs": [],
   "source": [
    "file_name=\"textFile.txt\"\n",
    "language=\"en\""
   ]
  },
  {
   "cell_type": "code",
   "execution_count": 29,
   "id": "aa6673b6",
   "metadata": {
    "ExecuteTime": {
     "end_time": "2022-05-03T14:36:56.155240Z",
     "start_time": "2022-05-03T14:36:56.137289Z"
    }
   },
   "outputs": [],
   "source": [
    "f1=open(file_name,'r')\n",
    "lines=f1.readlines()\n",
    "f1.close()"
   ]
  },
  {
   "cell_type": "code",
   "execution_count": 34,
   "id": "3751033a",
   "metadata": {
    "ExecuteTime": {
     "end_time": "2022-05-03T14:39:07.605907Z",
     "start_time": "2022-05-03T14:39:07.585953Z"
    }
   },
   "outputs": [],
   "source": [
    "store_text=''\n",
    "for line in lines:\n",
    "     store_text+=line.strip()"
   ]
  },
  {
   "cell_type": "code",
   "execution_count": 36,
   "id": "c16606d1",
   "metadata": {
    "ExecuteTime": {
     "end_time": "2022-05-03T14:40:15.541768Z",
     "start_time": "2022-05-03T14:40:14.339810Z"
    }
   },
   "outputs": [
    {
     "data": {
      "text/plain": [
       "1"
      ]
     },
     "execution_count": 36,
     "metadata": {},
     "output_type": "execute_result"
    }
   ],
   "source": [
    "obj=gTTS(text=store_text,lang=language,slow=False)\n",
    "obj.save(\"saved_Object.mp3\")\n",
    "os.system(\"mpg321 saved_Object.mp3\")"
   ]
  },
  {
   "cell_type": "code",
   "execution_count": null,
   "id": "5e3b7316",
   "metadata": {},
   "outputs": [],
   "source": []
  }
 ],
 "metadata": {
  "kernelspec": {
   "display_name": "Python 3 (ipykernel)",
   "language": "python",
   "name": "python3"
  },
  "language_info": {
   "codemirror_mode": {
    "name": "ipython",
    "version": 3
   },
   "file_extension": ".py",
   "mimetype": "text/x-python",
   "name": "python",
   "nbconvert_exporter": "python",
   "pygments_lexer": "ipython3",
   "version": "3.9.7"
  }
 },
 "nbformat": 4,
 "nbformat_minor": 5
}
